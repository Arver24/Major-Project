{
 "cells": [
  {
   "cell_type": "code",
   "execution_count": 1,
   "metadata": {},
   "outputs": [
    {
     "name": "stderr",
     "output_type": "stream",
     "text": [
      "d:\\MajorProject\\.venv\\lib\\site-packages\\tacotron_cleaner\\__init__.py:78: SyntaxWarning: \"is not\" with a literal. Did you mean \"!=\"?\n",
      "  return s in _symbol_to_id and s is not '_' and s is not '~'\n",
      "d:\\MajorProject\\.venv\\lib\\site-packages\\tacotron_cleaner\\__init__.py:78: SyntaxWarning: \"is not\" with a literal. Did you mean \"!=\"?\n",
      "  return s in _symbol_to_id and s is not '_' and s is not '~'\n"
     ]
    }
   ],
   "source": [
    "from espnet.espnet2.bin.spk_inference import Speech2Embedding\n",
    "import numpy as np\n",
    "import pandas as pd\n",
    "import torch\n",
    "import torchaudio as aud\n",
    "import soundfile\n",
    "from collections import defaultdict\n",
    "import os\n",
    "\n",
    "\n",
    "import torch.nn as nn\n",
    "import torch.optim as optim\n",
    "\n",
    "import torch.nn.functional as F\n",
    "\n",
    "import copy\n",
    "\n",
    "import matplotlib.pyplot as plt \n",
    "import tqdm \n",
    "from sklearn.neural_network import MLPClassifier\n",
    "from sklearn.model_selection import train_test_split,StratifiedKFold\n",
    "from sklearn.preprocessing import MinMaxScaler\n",
    "from sklearn.metrics import accuracy_score,confusion_matrix,ConfusionMatrixDisplay,recall_score,f1_score,precision_recall_curve,precision_score\n",
    "\n",
    "\n",
    "DIR_REAL = \"data/real\"\n",
    "DIR_FAKE = \"data/fake\""
   ]
  },
  {
   "cell_type": "code",
   "execution_count": null,
   "metadata": {},
   "outputs": [],
   "source": [
    "\n",
    "\n"
   ]
  },
  {
   "cell_type": "code",
   "execution_count": 3,
   "metadata": {},
   "outputs": [
    {
     "data": {
      "application/vnd.jupyter.widget-view+json": {
       "model_id": "2392152f0b2843ffb80ae20e4c533ea8",
       "version_major": 2,
       "version_minor": 0
      },
      "text/plain": [
       "Fetching 24 files:   0%|          | 0/24 [00:00<?, ?it/s]"
      ]
     },
     "metadata": {},
     "output_type": "display_data"
    }
   ],
   "source": [
    "speech2spk_embed = Speech2Embedding.from_pretrained(\n",
    "    model_tag=\"espnet/voxcelebs12_rawnet3\"\n",
    ")\n",
    "waveform, samples = soundfile.read(\n",
    "    \"/home/arver/MajorProject/voxceleb_trainer/data/id10001/1zcIwhmdeo4/00001.wav\"\n",
    ")\n",
    "\n",
    "# waveform=waveform.numpy()\n",
    "embedding = speech2spk_embed(waveform)\n",
    "\n",
    "label=[0]\n",
    "data = pd.DataFrame((embedding.numpy()))\n",
    "data['Label']=label\n",
    "new_df = pd.DataFrame((embedding.numpy()))\n",
    "new_df[\"Label\"] = label\n",
    "# data.loc[len(data)] = new_df\n",
    "new_df = pd.concat([data, new_df], axis=0)\n",
    "new_df\n",
    "new_df=new_df.drop(index=0)\n"
   ]
  },
  {
   "cell_type": "code",
   "execution_count": 4,
   "metadata": {},
   "outputs": [
    {
     "data": {
      "text/plain": [
       "tensor([[ 1.5865, -1.0513,  0.1770, -0.3664, -1.6271, -0.2916,  0.1619,  0.2803,\n",
       "         -0.8718,  0.9865, -0.3907,  0.3906, -0.6183,  1.8670, -0.1210,  0.0763,\n",
       "         -0.2310,  0.4438, -0.9062, -0.5961,  0.7020, -1.2862, -0.0846,  1.4104,\n",
       "         -0.4088, -0.1229,  0.4491, -0.8088, -0.0591,  0.1521, -0.7015,  0.7554,\n",
       "          0.5151, -1.1902,  0.0190,  0.5636,  0.5181, -1.6099,  0.4023,  1.8012,\n",
       "          1.7393, -0.2585,  1.1398, -0.2648, -0.5308,  1.4132,  1.2423,  0.6619,\n",
       "          1.8324, -1.4277,  1.9367,  0.9986, -1.9118,  1.6553,  0.0293,  1.8297,\n",
       "          1.1733, -0.4669,  0.8130,  0.1148,  0.4456, -0.8231,  0.6692,  1.1419,\n",
       "          0.6736,  0.3556, -0.1194, -0.1668, -0.2273,  1.6860,  0.0551,  1.3743,\n",
       "          1.6142,  1.5285, -0.9546,  0.3669,  1.7959, -0.4946, -1.2964, -0.4669,\n",
       "          0.4337, -1.3660, -0.4580, -0.7590, -1.5727,  1.5465,  0.1561,  0.9038,\n",
       "          1.0759,  0.0262, -0.4068,  0.4659, -0.7273,  0.2134, -0.2161, -1.6429,\n",
       "          0.7624,  1.0100, -0.3889, -0.5733, -0.0295,  1.2033, -1.2979, -0.6815,\n",
       "          0.2790, -0.6332,  0.3668,  0.1515,  1.2339,  0.7910,  0.1557, -1.1811,\n",
       "         -0.2906,  0.3640,  1.0038, -0.1531, -0.5786, -1.4593, -0.2779, -0.5654,\n",
       "         -0.5067, -1.2780,  1.3944,  1.0402, -0.4076, -0.6960,  0.3557,  0.0910,\n",
       "         -0.0104, -0.7037,  1.0355, -1.1715, -0.9033, -0.5466, -0.0759,  1.0308,\n",
       "         -2.1214,  0.1548,  0.6550, -0.5547, -1.1470,  0.8101, -0.2632, -0.6797,\n",
       "          1.6362, -0.9411,  1.0926, -1.7930, -0.4683,  0.2112,  0.5005,  1.0666,\n",
       "          0.2743,  0.1369,  0.6451, -1.2144, -0.0182, -0.3940,  0.1238,  1.2491,\n",
       "          1.2122, -1.2793, -1.2495, -0.8220, -1.4139,  0.4718, -0.4932,  0.4275,\n",
       "          1.8835, -0.5822,  0.3720, -0.0311,  0.4126, -0.2320, -0.5897, -0.4109,\n",
       "          0.4730,  2.1165, -0.4598, -0.1784,  2.1951,  0.6615,  1.2227,  0.7949,\n",
       "         -0.1645, -0.8093, -0.2408, -0.1792,  0.0982, -0.2862,  1.7180,  0.6328]])"
      ]
     },
     "execution_count": 4,
     "metadata": {},
     "output_type": "execute_result"
    }
   ],
   "source": [
    "embedding"
   ]
  },
  {
   "cell_type": "code",
   "execution_count": 5,
   "metadata": {},
   "outputs": [],
   "source": [
    "def generate_spk_embed(filepath,label):\n",
    "    speech2spk_embed = Speech2Embedding.from_pretrained(\n",
    "        model_tag=\"espnet/voxcelebs12_rawnet3\"\n",
    "    )\n",
    "    waveform, samples = soundfile.read(filepath)\n",
    "    embedding = speech2spk_embed(waveform)\n",
    "    _data = pd.DataFrame(embedding.numpy())\n",
    "    _data[\"Label\"] = label\n",
    "    return _data"
   ]
  },
  {
   "cell_type": "code",
   "execution_count": 1,
   "metadata": {},
   "outputs": [
    {
     "ename": "NameError",
     "evalue": "name 'os' is not defined",
     "output_type": "error",
     "traceback": [
      "\u001b[0;31m---------------------------------------------------------------------------\u001b[0m",
      "\u001b[0;31mNameError\u001b[0m                                 Traceback (most recent call last)",
      "Cell \u001b[0;32mIn[1], line 1\u001b[0m\n\u001b[0;32m----> 1\u001b[0m \u001b[38;5;28;01mfor\u001b[39;00m filename \u001b[38;5;129;01min\u001b[39;00m \u001b[43mos\u001b[49m\u001b[38;5;241m.\u001b[39mscandir(DIR_REAL):\n\u001b[1;32m      3\u001b[0m     new_df\u001b[38;5;241m=\u001b[39mpd\u001b[38;5;241m.\u001b[39mconcat([generate_spk_embed(filename\u001b[38;5;241m.\u001b[39mpath, \u001b[38;5;241m0\u001b[39m),new_df])\n\u001b[1;32m      4\u001b[0m \u001b[38;5;28;01mfor\u001b[39;00m filename \u001b[38;5;129;01min\u001b[39;00m os\u001b[38;5;241m.\u001b[39mscandir(DIR_FAKE):\n",
      "\u001b[0;31mNameError\u001b[0m: name 'os' is not defined"
     ]
    }
   ],
   "source": [
    "for filename in os.scandir(DIR_REAL):\n",
    "    \n",
    "    new_df=pd.concat([generate_spk_embed(filename.path, 0),new_df])\n",
    "for filename in os.scandir(DIR_FAKE):\n",
    "    new_df=pd.concat([generate_spk_embed(filename.path, 1),new_df])\n"
   ]
  },
  {
   "cell_type": "code",
   "execution_count": 546,
   "metadata": {},
   "outputs": [],
   "source": [
    "# new_df=new_df.fillna(0)"
   ]
  },
  {
   "cell_type": "code",
   "execution_count": 1086,
   "metadata": {},
   "outputs": [
    {
     "data": {
      "text/html": [
       "<div>\n",
       "<style scoped>\n",
       "    .dataframe tbody tr th:only-of-type {\n",
       "        vertical-align: middle;\n",
       "    }\n",
       "\n",
       "    .dataframe tbody tr th {\n",
       "        vertical-align: top;\n",
       "    }\n",
       "\n",
       "    .dataframe thead th {\n",
       "        text-align: right;\n",
       "    }\n",
       "</style>\n",
       "<table border=\"1\" class=\"dataframe\">\n",
       "  <thead>\n",
       "    <tr style=\"text-align: right;\">\n",
       "      <th></th>\n",
       "      <th>0</th>\n",
       "      <th>1</th>\n",
       "      <th>2</th>\n",
       "      <th>3</th>\n",
       "      <th>4</th>\n",
       "      <th>5</th>\n",
       "      <th>6</th>\n",
       "      <th>7</th>\n",
       "      <th>8</th>\n",
       "      <th>9</th>\n",
       "      <th>...</th>\n",
       "      <th>183</th>\n",
       "      <th>184</th>\n",
       "      <th>185</th>\n",
       "      <th>186</th>\n",
       "      <th>187</th>\n",
       "      <th>188</th>\n",
       "      <th>189</th>\n",
       "      <th>190</th>\n",
       "      <th>191</th>\n",
       "      <th>Label</th>\n",
       "    </tr>\n",
       "  </thead>\n",
       "  <tbody>\n",
       "    <tr>\n",
       "      <th>0</th>\n",
       "      <td>0.266434</td>\n",
       "      <td>-0.207302</td>\n",
       "      <td>-0.102762</td>\n",
       "      <td>0.615494</td>\n",
       "      <td>0.062734</td>\n",
       "      <td>0.473537</td>\n",
       "      <td>0.667933</td>\n",
       "      <td>0.611245</td>\n",
       "      <td>0.277050</td>\n",
       "      <td>0.336296</td>\n",
       "      <td>...</td>\n",
       "      <td>-0.673731</td>\n",
       "      <td>-0.169248</td>\n",
       "      <td>-1.607772</td>\n",
       "      <td>-0.028492</td>\n",
       "      <td>1.165426</td>\n",
       "      <td>1.071803</td>\n",
       "      <td>-0.634584</td>\n",
       "      <td>-0.521676</td>\n",
       "      <td>1.796573</td>\n",
       "      <td>1</td>\n",
       "    </tr>\n",
       "    <tr>\n",
       "      <th>0</th>\n",
       "      <td>0.021625</td>\n",
       "      <td>-0.861577</td>\n",
       "      <td>-0.054217</td>\n",
       "      <td>0.551973</td>\n",
       "      <td>-0.395832</td>\n",
       "      <td>0.461792</td>\n",
       "      <td>1.071472</td>\n",
       "      <td>1.040119</td>\n",
       "      <td>-1.512797</td>\n",
       "      <td>0.305677</td>\n",
       "      <td>...</td>\n",
       "      <td>-0.050322</td>\n",
       "      <td>-0.350451</td>\n",
       "      <td>-1.910393</td>\n",
       "      <td>-0.235210</td>\n",
       "      <td>0.810860</td>\n",
       "      <td>-0.356453</td>\n",
       "      <td>-1.164396</td>\n",
       "      <td>-0.028261</td>\n",
       "      <td>0.336531</td>\n",
       "      <td>1</td>\n",
       "    </tr>\n",
       "    <tr>\n",
       "      <th>0</th>\n",
       "      <td>1.430655</td>\n",
       "      <td>0.210354</td>\n",
       "      <td>0.149655</td>\n",
       "      <td>1.266017</td>\n",
       "      <td>-0.209762</td>\n",
       "      <td>0.210922</td>\n",
       "      <td>0.079287</td>\n",
       "      <td>0.262863</td>\n",
       "      <td>-0.145274</td>\n",
       "      <td>0.587592</td>\n",
       "      <td>...</td>\n",
       "      <td>0.269231</td>\n",
       "      <td>-0.801288</td>\n",
       "      <td>-1.535257</td>\n",
       "      <td>-0.156761</td>\n",
       "      <td>0.914574</td>\n",
       "      <td>0.475922</td>\n",
       "      <td>-1.501757</td>\n",
       "      <td>0.107641</td>\n",
       "      <td>0.804791</td>\n",
       "      <td>1</td>\n",
       "    </tr>\n",
       "    <tr>\n",
       "      <th>0</th>\n",
       "      <td>0.311296</td>\n",
       "      <td>-0.228981</td>\n",
       "      <td>-0.439442</td>\n",
       "      <td>1.053226</td>\n",
       "      <td>0.302236</td>\n",
       "      <td>0.653754</td>\n",
       "      <td>0.657931</td>\n",
       "      <td>0.859791</td>\n",
       "      <td>0.163311</td>\n",
       "      <td>0.146419</td>\n",
       "      <td>...</td>\n",
       "      <td>0.031659</td>\n",
       "      <td>-0.212596</td>\n",
       "      <td>-1.402371</td>\n",
       "      <td>0.132119</td>\n",
       "      <td>1.019408</td>\n",
       "      <td>1.227912</td>\n",
       "      <td>-1.574905</td>\n",
       "      <td>0.023605</td>\n",
       "      <td>0.928621</td>\n",
       "      <td>1</td>\n",
       "    </tr>\n",
       "    <tr>\n",
       "      <th>0</th>\n",
       "      <td>1.661150</td>\n",
       "      <td>-0.170779</td>\n",
       "      <td>-0.261788</td>\n",
       "      <td>0.406275</td>\n",
       "      <td>-0.083256</td>\n",
       "      <td>0.690675</td>\n",
       "      <td>0.117171</td>\n",
       "      <td>0.046806</td>\n",
       "      <td>0.348536</td>\n",
       "      <td>0.484744</td>\n",
       "      <td>...</td>\n",
       "      <td>-0.217517</td>\n",
       "      <td>-0.044417</td>\n",
       "      <td>-1.080690</td>\n",
       "      <td>-0.913901</td>\n",
       "      <td>0.615673</td>\n",
       "      <td>0.839684</td>\n",
       "      <td>-0.911803</td>\n",
       "      <td>-0.042916</td>\n",
       "      <td>0.722198</td>\n",
       "      <td>1</td>\n",
       "    </tr>\n",
       "    <tr>\n",
       "      <th>...</th>\n",
       "      <td>...</td>\n",
       "      <td>...</td>\n",
       "      <td>...</td>\n",
       "      <td>...</td>\n",
       "      <td>...</td>\n",
       "      <td>...</td>\n",
       "      <td>...</td>\n",
       "      <td>...</td>\n",
       "      <td>...</td>\n",
       "      <td>...</td>\n",
       "      <td>...</td>\n",
       "      <td>...</td>\n",
       "      <td>...</td>\n",
       "      <td>...</td>\n",
       "      <td>...</td>\n",
       "      <td>...</td>\n",
       "      <td>...</td>\n",
       "      <td>...</td>\n",
       "      <td>...</td>\n",
       "      <td>...</td>\n",
       "      <td>...</td>\n",
       "    </tr>\n",
       "    <tr>\n",
       "      <th>0</th>\n",
       "      <td>0.308060</td>\n",
       "      <td>2.244378</td>\n",
       "      <td>-1.232828</td>\n",
       "      <td>-1.238095</td>\n",
       "      <td>0.940236</td>\n",
       "      <td>0.721144</td>\n",
       "      <td>1.015002</td>\n",
       "      <td>-1.840672</td>\n",
       "      <td>-0.969170</td>\n",
       "      <td>-0.066821</td>\n",
       "      <td>...</td>\n",
       "      <td>-0.712801</td>\n",
       "      <td>-1.252089</td>\n",
       "      <td>0.606143</td>\n",
       "      <td>-0.581337</td>\n",
       "      <td>-1.496310</td>\n",
       "      <td>-0.627161</td>\n",
       "      <td>0.229815</td>\n",
       "      <td>-0.957532</td>\n",
       "      <td>-1.019000</td>\n",
       "      <td>0</td>\n",
       "    </tr>\n",
       "    <tr>\n",
       "      <th>0</th>\n",
       "      <td>-0.477407</td>\n",
       "      <td>2.020177</td>\n",
       "      <td>-0.369176</td>\n",
       "      <td>-0.983152</td>\n",
       "      <td>-0.188623</td>\n",
       "      <td>1.128044</td>\n",
       "      <td>-0.301371</td>\n",
       "      <td>-1.854112</td>\n",
       "      <td>0.266156</td>\n",
       "      <td>-0.346004</td>\n",
       "      <td>...</td>\n",
       "      <td>-0.438952</td>\n",
       "      <td>0.179166</td>\n",
       "      <td>1.040560</td>\n",
       "      <td>-1.098132</td>\n",
       "      <td>-1.972345</td>\n",
       "      <td>-1.402885</td>\n",
       "      <td>1.127077</td>\n",
       "      <td>-0.451067</td>\n",
       "      <td>0.106210</td>\n",
       "      <td>0</td>\n",
       "    </tr>\n",
       "    <tr>\n",
       "      <th>0</th>\n",
       "      <td>1.782478</td>\n",
       "      <td>-0.718692</td>\n",
       "      <td>0.272889</td>\n",
       "      <td>-0.029963</td>\n",
       "      <td>-1.831220</td>\n",
       "      <td>0.215785</td>\n",
       "      <td>0.264597</td>\n",
       "      <td>-0.663466</td>\n",
       "      <td>0.534976</td>\n",
       "      <td>-0.052698</td>\n",
       "      <td>...</td>\n",
       "      <td>0.251827</td>\n",
       "      <td>0.288940</td>\n",
       "      <td>-0.009113</td>\n",
       "      <td>-0.032745</td>\n",
       "      <td>-1.208307</td>\n",
       "      <td>-1.338087</td>\n",
       "      <td>0.099541</td>\n",
       "      <td>1.276004</td>\n",
       "      <td>1.800472</td>\n",
       "      <td>0</td>\n",
       "    </tr>\n",
       "    <tr>\n",
       "      <th>0</th>\n",
       "      <td>0.481712</td>\n",
       "      <td>-0.546993</td>\n",
       "      <td>0.570728</td>\n",
       "      <td>-1.862694</td>\n",
       "      <td>0.390016</td>\n",
       "      <td>0.002887</td>\n",
       "      <td>0.424809</td>\n",
       "      <td>0.990159</td>\n",
       "      <td>-0.121054</td>\n",
       "      <td>0.050268</td>\n",
       "      <td>...</td>\n",
       "      <td>0.639324</td>\n",
       "      <td>-0.010296</td>\n",
       "      <td>-1.095211</td>\n",
       "      <td>0.176200</td>\n",
       "      <td>-1.172210</td>\n",
       "      <td>0.882225</td>\n",
       "      <td>-0.248681</td>\n",
       "      <td>0.671098</td>\n",
       "      <td>1.023686</td>\n",
       "      <td>0</td>\n",
       "    </tr>\n",
       "    <tr>\n",
       "      <th>0</th>\n",
       "      <td>0.259794</td>\n",
       "      <td>1.496056</td>\n",
       "      <td>-1.340835</td>\n",
       "      <td>-1.713612</td>\n",
       "      <td>1.099977</td>\n",
       "      <td>1.192811</td>\n",
       "      <td>0.482637</td>\n",
       "      <td>-2.168639</td>\n",
       "      <td>-0.983370</td>\n",
       "      <td>-0.609790</td>\n",
       "      <td>...</td>\n",
       "      <td>0.626572</td>\n",
       "      <td>-0.731227</td>\n",
       "      <td>1.018031</td>\n",
       "      <td>-0.675811</td>\n",
       "      <td>-1.728806</td>\n",
       "      <td>-1.252249</td>\n",
       "      <td>-0.537259</td>\n",
       "      <td>-1.403915</td>\n",
       "      <td>-0.523342</td>\n",
       "      <td>0</td>\n",
       "    </tr>\n",
       "  </tbody>\n",
       "</table>\n",
       "<p>155 rows × 193 columns</p>\n",
       "</div>"
      ],
      "text/plain": [
       "           0         1         2         3         4         5         6  \\\n",
       "0   0.266434 -0.207302 -0.102762  0.615494  0.062734  0.473537  0.667933   \n",
       "0   0.021625 -0.861577 -0.054217  0.551973 -0.395832  0.461792  1.071472   \n",
       "0   1.430655  0.210354  0.149655  1.266017 -0.209762  0.210922  0.079287   \n",
       "0   0.311296 -0.228981 -0.439442  1.053226  0.302236  0.653754  0.657931   \n",
       "0   1.661150 -0.170779 -0.261788  0.406275 -0.083256  0.690675  0.117171   \n",
       "..       ...       ...       ...       ...       ...       ...       ...   \n",
       "0   0.308060  2.244378 -1.232828 -1.238095  0.940236  0.721144  1.015002   \n",
       "0  -0.477407  2.020177 -0.369176 -0.983152 -0.188623  1.128044 -0.301371   \n",
       "0   1.782478 -0.718692  0.272889 -0.029963 -1.831220  0.215785  0.264597   \n",
       "0   0.481712 -0.546993  0.570728 -1.862694  0.390016  0.002887  0.424809   \n",
       "0   0.259794  1.496056 -1.340835 -1.713612  1.099977  1.192811  0.482637   \n",
       "\n",
       "           7         8         9  ...       183       184       185       186  \\\n",
       "0   0.611245  0.277050  0.336296  ... -0.673731 -0.169248 -1.607772 -0.028492   \n",
       "0   1.040119 -1.512797  0.305677  ... -0.050322 -0.350451 -1.910393 -0.235210   \n",
       "0   0.262863 -0.145274  0.587592  ...  0.269231 -0.801288 -1.535257 -0.156761   \n",
       "0   0.859791  0.163311  0.146419  ...  0.031659 -0.212596 -1.402371  0.132119   \n",
       "0   0.046806  0.348536  0.484744  ... -0.217517 -0.044417 -1.080690 -0.913901   \n",
       "..       ...       ...       ...  ...       ...       ...       ...       ...   \n",
       "0  -1.840672 -0.969170 -0.066821  ... -0.712801 -1.252089  0.606143 -0.581337   \n",
       "0  -1.854112  0.266156 -0.346004  ... -0.438952  0.179166  1.040560 -1.098132   \n",
       "0  -0.663466  0.534976 -0.052698  ...  0.251827  0.288940 -0.009113 -0.032745   \n",
       "0   0.990159 -0.121054  0.050268  ...  0.639324 -0.010296 -1.095211  0.176200   \n",
       "0  -2.168639 -0.983370 -0.609790  ...  0.626572 -0.731227  1.018031 -0.675811   \n",
       "\n",
       "         187       188       189       190       191  Label  \n",
       "0   1.165426  1.071803 -0.634584 -0.521676  1.796573      1  \n",
       "0   0.810860 -0.356453 -1.164396 -0.028261  0.336531      1  \n",
       "0   0.914574  0.475922 -1.501757  0.107641  0.804791      1  \n",
       "0   1.019408  1.227912 -1.574905  0.023605  0.928621      1  \n",
       "0   0.615673  0.839684 -0.911803 -0.042916  0.722198      1  \n",
       "..       ...       ...       ...       ...       ...    ...  \n",
       "0  -1.496310 -0.627161  0.229815 -0.957532 -1.019000      0  \n",
       "0  -1.972345 -1.402885  1.127077 -0.451067  0.106210      0  \n",
       "0  -1.208307 -1.338087  0.099541  1.276004  1.800472      0  \n",
       "0  -1.172210  0.882225 -0.248681  0.671098  1.023686      0  \n",
       "0  -1.728806 -1.252249 -0.537259 -1.403915 -0.523342      0  \n",
       "\n",
       "[155 rows x 193 columns]"
      ]
     },
     "execution_count": 1086,
     "metadata": {},
     "output_type": "execute_result"
    }
   ],
   "source": [
    "new_df=new_df.fillna(-1)\n",
    "new_df"
   ]
  },
  {
   "cell_type": "code",
   "execution_count": 1317,
   "metadata": {},
   "outputs": [],
   "source": [
    "X = new_df.drop(\"Label\", axis=1).values\n",
    "y = new_df[\"Label\"].values\n",
    "X_train, X_test, y_train, y_test = train_test_split(\n",
    "    X, y, test_size=0.3, random_state=71\n",
    ")\n",
    "# Random state ensures that the splits that you generate are reproducible.\n",
    "# Scikit-learn uses random permutations to generate the splits.\n",
    "# The random state that you provide is used as a seed to the random number generator.\n",
    "# This ensures that the random numbers are generated in the same order.\n",
    "X_train_t = torch.FloatTensor(X_train)\n",
    "X_test_t = torch.FloatTensor(X_test)\n",
    "y_train_t = torch.LongTensor(y_train)\n",
    "y_test_t = torch.LongTensor(y_test)"
   ]
  },
  {
   "cell_type": "code",
   "execution_count": 1318,
   "metadata": {},
   "outputs": [
    {
     "data": {
      "text/plain": [
       "(108,)"
      ]
     },
     "execution_count": 1318,
     "metadata": {},
     "output_type": "execute_result"
    }
   ],
   "source": [
    "y_train.shape"
   ]
  },
  {
   "cell_type": "code",
   "execution_count": 1319,
   "metadata": {},
   "outputs": [],
   "source": [
    "class DNN(nn.Module):\n",
    "    def __init__(self):\n",
    "        super().__init__()\n",
    "        self.fc1 = nn.Linear(in_features=192, out_features=5)\n",
    "        self.output = nn.Linear(in_features=5, out_features=1)\n",
    "\n",
    "    def forward(self, x):\n",
    "        x = F.relu(self.fc1(x))\n",
    "        x = self.output(x)\n",
    "        return x"
   ]
  },
  {
   "cell_type": "code",
   "execution_count": 1320,
   "metadata": {},
   "outputs": [
    {
     "data": {
      "text/plain": [
       "DNN(\n",
       "  (fc1): Linear(in_features=192, out_features=5, bias=True)\n",
       "  (output): Linear(in_features=5, out_features=1, bias=True)\n",
       ")"
      ]
     },
     "execution_count": 1320,
     "metadata": {},
     "output_type": "execute_result"
    }
   ],
   "source": [
    "model=DNN()\n",
    "model"
   ]
  },
  {
   "cell_type": "code",
   "execution_count": 1321,
   "metadata": {},
   "outputs": [],
   "source": [
    "criterion = nn.CrossEntropyLoss()\n",
    "optimizer = torch.optim.Adam(model.parameters(), lr=0.01)"
   ]
  },
  {
   "cell_type": "code",
   "execution_count": 1322,
   "metadata": {},
   "outputs": [
    {
     "name": "stderr",
     "output_type": "stream",
     "text": [
      "/home/arver/MajorProject/.venv/lib/python3.8/site-packages/sklearn/neural_network/_multilayer_perceptron.py:691: ConvergenceWarning: Stochastic Optimizer: Maximum iterations (40) reached and the optimization hasn't converged yet.\n",
      "  warnings.warn(\n"
     ]
    },
    {
     "data": {
      "text/html": [
       "<style>#sk-container-id-133 {color: black;}#sk-container-id-133 pre{padding: 0;}#sk-container-id-133 div.sk-toggleable {background-color: white;}#sk-container-id-133 label.sk-toggleable__label {cursor: pointer;display: block;width: 100%;margin-bottom: 0;padding: 0.3em;box-sizing: border-box;text-align: center;}#sk-container-id-133 label.sk-toggleable__label-arrow:before {content: \"▸\";float: left;margin-right: 0.25em;color: #696969;}#sk-container-id-133 label.sk-toggleable__label-arrow:hover:before {color: black;}#sk-container-id-133 div.sk-estimator:hover label.sk-toggleable__label-arrow:before {color: black;}#sk-container-id-133 div.sk-toggleable__content {max-height: 0;max-width: 0;overflow: hidden;text-align: left;background-color: #f0f8ff;}#sk-container-id-133 div.sk-toggleable__content pre {margin: 0.2em;color: black;border-radius: 0.25em;background-color: #f0f8ff;}#sk-container-id-133 input.sk-toggleable__control:checked~div.sk-toggleable__content {max-height: 200px;max-width: 100%;overflow: auto;}#sk-container-id-133 input.sk-toggleable__control:checked~label.sk-toggleable__label-arrow:before {content: \"▾\";}#sk-container-id-133 div.sk-estimator input.sk-toggleable__control:checked~label.sk-toggleable__label {background-color: #d4ebff;}#sk-container-id-133 div.sk-label input.sk-toggleable__control:checked~label.sk-toggleable__label {background-color: #d4ebff;}#sk-container-id-133 input.sk-hidden--visually {border: 0;clip: rect(1px 1px 1px 1px);clip: rect(1px, 1px, 1px, 1px);height: 1px;margin: -1px;overflow: hidden;padding: 0;position: absolute;width: 1px;}#sk-container-id-133 div.sk-estimator {font-family: monospace;background-color: #f0f8ff;border: 1px dotted black;border-radius: 0.25em;box-sizing: border-box;margin-bottom: 0.5em;}#sk-container-id-133 div.sk-estimator:hover {background-color: #d4ebff;}#sk-container-id-133 div.sk-parallel-item::after {content: \"\";width: 100%;border-bottom: 1px solid gray;flex-grow: 1;}#sk-container-id-133 div.sk-label:hover label.sk-toggleable__label {background-color: #d4ebff;}#sk-container-id-133 div.sk-serial::before {content: \"\";position: absolute;border-left: 1px solid gray;box-sizing: border-box;top: 0;bottom: 0;left: 50%;z-index: 0;}#sk-container-id-133 div.sk-serial {display: flex;flex-direction: column;align-items: center;background-color: white;padding-right: 0.2em;padding-left: 0.2em;position: relative;}#sk-container-id-133 div.sk-item {position: relative;z-index: 1;}#sk-container-id-133 div.sk-parallel {display: flex;align-items: stretch;justify-content: center;background-color: white;position: relative;}#sk-container-id-133 div.sk-item::before, #sk-container-id-133 div.sk-parallel-item::before {content: \"\";position: absolute;border-left: 1px solid gray;box-sizing: border-box;top: 0;bottom: 0;left: 50%;z-index: -1;}#sk-container-id-133 div.sk-parallel-item {display: flex;flex-direction: column;z-index: 1;position: relative;background-color: white;}#sk-container-id-133 div.sk-parallel-item:first-child::after {align-self: flex-end;width: 50%;}#sk-container-id-133 div.sk-parallel-item:last-child::after {align-self: flex-start;width: 50%;}#sk-container-id-133 div.sk-parallel-item:only-child::after {width: 0;}#sk-container-id-133 div.sk-dashed-wrapped {border: 1px dashed gray;margin: 0 0.4em 0.5em 0.4em;box-sizing: border-box;padding-bottom: 0.4em;background-color: white;}#sk-container-id-133 div.sk-label label {font-family: monospace;font-weight: bold;display: inline-block;line-height: 1.2em;}#sk-container-id-133 div.sk-label-container {text-align: center;}#sk-container-id-133 div.sk-container {/* jupyter's `normalize.less` sets `[hidden] { display: none; }` but bootstrap.min.css set `[hidden] { display: none !important; }` so we also need the `!important` here to be able to override the default hidden behavior on the sphinx rendered scikit-learn.org. See: https://github.com/scikit-learn/scikit-learn/issues/21755 */display: inline-block !important;position: relative;}#sk-container-id-133 div.sk-text-repr-fallback {display: none;}</style><div id=\"sk-container-id-133\" class=\"sk-top-container\"><div class=\"sk-text-repr-fallback\"><pre>MLPClassifier(max_iter=40)</pre><b>In a Jupyter environment, please rerun this cell to show the HTML representation or trust the notebook. <br />On GitHub, the HTML representation is unable to render, please try loading this page with nbviewer.org.</b></div><div class=\"sk-container\" hidden><div class=\"sk-item\"><div class=\"sk-estimator sk-toggleable\"><input class=\"sk-toggleable__control sk-hidden--visually\" id=\"sk-estimator-id-133\" type=\"checkbox\" checked><label for=\"sk-estimator-id-133\" class=\"sk-toggleable__label sk-toggleable__label-arrow\">MLPClassifier</label><div class=\"sk-toggleable__content\"><pre>MLPClassifier(max_iter=40)</pre></div></div></div></div></div>"
      ],
      "text/plain": [
       "MLPClassifier(max_iter=40)"
      ]
     },
     "execution_count": 1322,
     "metadata": {},
     "output_type": "execute_result"
    }
   ],
   "source": [
    "model = MLPClassifier(\n",
    "    activation='relu',\n",
    "    solver='adam',\n",
    "    learning_rate='constant',\n",
    "    learning_rate_init=0.001,\n",
    "    max_iter=40\n",
    "                 )\n",
    "model.fit(X_train, y_train)"
   ]
  },
  {
   "cell_type": "code",
   "execution_count": 1323,
   "metadata": {},
   "outputs": [
    {
     "data": {
      "text/plain": [
       "Text(0, 0.5, 'Loss')"
      ]
     },
     "execution_count": 1323,
     "metadata": {},
     "output_type": "execute_result"
    },
    {
     "data": {
      "image/png": "[encoded data removed]",
      "text/plain": [
       "<Figure size 640x480 with 1 Axes>"
      ]
     },
     "metadata": {},
     "output_type": "display_data"
    }
   ],
   "source": [
    "plt.title('Loss vs Epochs')\n",
    "plt.plot(model.loss_curve_)\n",
    "plt.xlabel(\"Epochs\")\n",
    "plt.ylabel(\"Loss\")"
   ]
  },
  {
   "cell_type": "code",
   "execution_count": 1324,
   "metadata": {},
   "outputs": [
    {
     "data": {
      "text/plain": [
       "(array([0, 0, 0, 1, 0, 0, 0, 0, 1, 0, 1, 0, 0, 1, 0, 0, 0, 0, 0, 0, 0, 0,\n",
       "        1, 0, 0, 1, 0, 1, 1, 0, 0, 0, 0, 1, 1, 0, 1, 0, 0, 1, 1, 1, 0, 0,\n",
       "        1, 0, 0]),\n",
       " array([0, 0, 0, 1, 0, 0, 0, 0, 1, 0, 1, 0, 0, 1, 0, 0, 0, 0, 0, 0, 0, 0,\n",
       "        1, 0, 0, 1, 0, 1, 0, 0, 0, 0, 0, 1, 1, 0, 1, 0, 0, 1, 1, 1, 0, 0,\n",
       "        1, 0, 1]))"
      ]
     },
     "execution_count": 1324,
     "metadata": {},
     "output_type": "execute_result"
    }
   ],
   "source": [
    "y_pred=model.predict(X_test)\n",
    "y_pred,y_test"
   ]
  },
  {
   "cell_type": "code",
   "execution_count": 1328,
   "metadata": {},
   "outputs": [
    {
     "data": {
      "text/plain": [
       "<sklearn.metrics._plot.confusion_matrix.ConfusionMatrixDisplay at 0x7f2a50f03f40>"
      ]
     },
     "execution_count": 1328,
     "metadata": {},
     "output_type": "execute_result"
    },
    {
     "data": {
      "image/png": "[encoded data removed]",
      "text/plain": [
       "<Figure size 640x480 with 2 Axes>"
      ]
     },
     "metadata": {},
     "output_type": "display_data"
    }
   ],
   "source": [
    "ConfusionMatrixDisplay(confusion_matrix(y_pred=y_pred,y_true=y_test)).plot()\n"
   ]
  },
  {
   "cell_type": "code",
   "execution_count": 1327,
   "metadata": {},
   "outputs": [
    {
     "name": "stdout",
     "output_type": "stream",
     "text": [
      "Accuracy: 95.74%\n",
      "Recall: 93.33%\n",
      "F1 Score: 93.33%\n",
      "Precision: 93.33%\n"
     ]
    }
   ],
   "source": [
    "print(f\"Accuracy: {round(accuracy_score(y_pred,y_test)*100,2)}%\")\n",
    "print(f\"Recall: {round(recall_score(y_pred,y_test)*100,2)}%\")\n",
    "print(f\"F1 Score: {round(f1_score(y_pred,y_test)*100,2)}%\")\n",
    "print(f\"Precision: {round(precision_score(y_pred,y_test)*100,2)}%\")"
   ]
  },
  {
   "cell_type": "code",
   "execution_count": 1238,
   "metadata": {},
   "outputs": [
    {
     "data": {
      "text/plain": [
       "(array([0, 0, 0, 1, 1, 1, 1, 0, 0, 0, 0, 0, 1, 0, 0, 1, 0, 1, 1, 1, 0, 0,\n",
       "        0, 0, 0, 1, 0, 1, 0, 1, 0, 0, 0, 1, 0, 0, 0, 0, 0, 0, 0, 1, 0, 0,\n",
       "        0, 1, 0, 0, 0, 0, 1, 0, 1, 1, 0, 1, 1, 0, 0]),\n",
       " array([0, 1, 1, 0, 0, 0, 0, 1, 0, 1, 1, 0, 0, 0, 0, 0, 1, 0, 0, 0, 0, 0,\n",
       "        0, 1, 1, 1, 0, 1, 0, 0, 0, 1, 1, 0, 1, 0, 0, 0, 0, 0, 0, 0, 0, 0,\n",
       "        1, 0, 1, 0, 0, 1, 0, 1, 1, 0, 0, 0, 0, 1, 0, 1, 0, 1, 0, 0, 0, 1,\n",
       "        0, 1, 0, 1, 0, 0, 1, 0, 1, 0, 0, 1, 0, 0, 0, 0, 0, 0, 1, 1, 0, 0,\n",
       "        0, 0, 0, 0, 0, 0, 0, 1]))"
      ]
     },
     "execution_count": 1238,
     "metadata": {},
     "output_type": "execute_result"
    }
   ],
   "source": [
    "y_pred,y_train"
   ]
  },
  {
   "cell_type": "code",
   "execution_count": null,
   "metadata": {},
   "outputs": [],
   "source": [
    "epochs = 100\n",
    "loss_arr = []\n",
    "\n",
    "for i in range(epochs):\n",
    "    y_hat = model.forward(X_train)\n",
    "    loss = criterion(y_hat, y_train)\n",
    "    loss_arr.append(loss)\n",
    "\n",
    "    if i % 10 == 0:\n",
    "        print(f\"Epoch: {i} Loss: {loss}\")\n",
    "\n",
    "    optimizer.zero_grad()\n",
    "    loss.backward()\n",
    "    optimizer.step()"
   ]
  }
 ],
 "metadata": {
  "kernelspec": {
   "display_name": ".venv",
   "language": "python",
   "name": "python3"
  },
  "language_info": {
   "codemirror_mode": {
    "name": "ipython",
    "version": 3
   },
   "file_extension": ".py",
   "mimetype": "text/x-python",
   "name": "python",
   "nbconvert_exporter": "python",
   "pygments_lexer": "ipython3",
   "version": "3.10.11"
  }
 },
 "nbformat": 4,
 "nbformat_minor": 2
}
